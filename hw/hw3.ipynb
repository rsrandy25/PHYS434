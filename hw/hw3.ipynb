{
 "cells": [
  {
   "cell_type": "markdown",
   "id": "8c3adce0-d7a2-4d37-9ea5-f2c92797da46",
   "metadata": {},
   "source": [
    "# Homework 3\n",
    "\n",
    "Problem 1a: The algorithm that makes the fewest mistakes is algorithm 1. Algorithm 1 miscategorizes five people as birds and three birds as people, adding up to a total of eight mistakes. Algorithm two on the other hand categorizes 11 people as birds and only one bird as a person, adding up to a total of 12 mistakes.\n",
    "\n",
    "1b: Algorithm two is better ofor the zoo, as the priority here is to minimizes the number of birds accidentally released. Since locking a person in the aviary door is of no importance to the zoo, we can say that algorithm two then only makes one mistake, making it the far better algorithm for the zoo.\n",
    "\n",
    "1c:"
   ]
  },
  {
   "cell_type": "code",
   "execution_count": 1,
   "id": "c6769379-389b-48e8-9bf6-799285cb0638",
   "metadata": {},
   "outputs": [
    {
     "name": "stdout",
     "output_type": "stream",
     "text": [
      "            True Bird | True Person\n",
      "    NA Bird      93   | 0\n",
      "  NA Person      6    | 1\n",
      "\n",
      "\n",
      "            True Bird | True Person\n",
      "    NA Bird      97   | 0\n",
      "  NA Person      2    | 1\n"
     ]
    }
   ],
   "source": [
    "print('            True Bird | True Person')\n",
    "print('    NA Bird      93   | 0')\n",
    "print('  NA Person      6    | 1')\n",
    "print()\n",
    "print()\n",
    "print('            True Bird | True Person')\n",
    "print('    NA Bird      97   | 0')\n",
    "print('  NA Person      2    | 1')"
   ]
  },
  {
   "attachments": {
    "23dfbf20-83e8-4d78-938a-85e74bb56eb0.png": {
     "image/png": "[encoded data removed]"
    }
   },
   "cell_type": "markdown",
   "id": "fae388c2-58a2-422c-8019-271622206cc9",
   "metadata": {},
   "source": [
    "Problem 2a:  According to wikipedia, the sum of two identical exponential distributions is equal to:\n",
    "![image.png](attachment:23dfbf20-83e8-4d78-938a-85e74bb56eb0.png)\n",
    "This pdf is also equivalent to an Erland distribution of shape 2 with the same parameter lambda as the parameters of the exponential distributions. This distribution takes the shape of:"
   ]
  },
  {
   "cell_type": "code",
   "execution_count": 2,
   "id": "9fb13ef1-a938-4fb9-8027-96205281cb12",
   "metadata": {},
   "outputs": [],
   "source": [
    "import scipy.stats as stats\n",
    "import matplotlib.pyplot as plt\n",
    "import numpy as np"
   ]
  },
  {
   "cell_type": "code",
   "execution_count": 3,
   "id": "a27205aa-4ccc-4b7a-8ded-fcb9967c17b8",
   "metadata": {},
   "outputs": [
    {
     "ename": "NameError",
     "evalue": "name 'd' is not defined",
     "output_type": "error",
     "traceback": [
      "\u001b[0;31m---------------------------------------------------------------------------\u001b[0m",
      "\u001b[0;31mNameError\u001b[0m                                 Traceback (most recent call last)",
      "\u001b[0;32m<ipython-input-3-c90fd74fecf7>\u001b[0m in \u001b[0;36m<module>\u001b[0;34m\u001b[0m\n\u001b[1;32m      1\u001b[0m \u001b[0mfig\u001b[0m\u001b[0;34m,\u001b[0m \u001b[0max\u001b[0m \u001b[0;34m=\u001b[0m \u001b[0mplt\u001b[0m\u001b[0;34m.\u001b[0m\u001b[0msubplots\u001b[0m\u001b[0;34m(\u001b[0m\u001b[0;36m1\u001b[0m\u001b[0;34m,\u001b[0m\u001b[0;36m1\u001b[0m\u001b[0;34m)\u001b[0m\u001b[0;34m\u001b[0m\u001b[0;34m\u001b[0m\u001b[0m\n\u001b[0;32m----> 2\u001b[0;31m \u001b[0mx\u001b[0m \u001b[0;34m=\u001b[0m \u001b[0mnp\u001b[0m\u001b[0;34m.\u001b[0m\u001b[0mlinspace\u001b[0m\u001b[0;34m(\u001b[0m\u001b[0mmin\u001b[0m\u001b[0;34m(\u001b[0m\u001b[0md\u001b[0m\u001b[0;34m)\u001b[0m\u001b[0;34m,\u001b[0m \u001b[0mmax\u001b[0m\u001b[0;34m(\u001b[0m\u001b[0md\u001b[0m\u001b[0;34m)\u001b[0m\u001b[0;34m,\u001b[0m\u001b[0;36m100\u001b[0m\u001b[0;34m)\u001b[0m\u001b[0;34m\u001b[0m\u001b[0;34m\u001b[0m\u001b[0m\n\u001b[0m\u001b[1;32m      3\u001b[0m \u001b[0md\u001b[0m \u001b[0;34m=\u001b[0m \u001b[0mstats\u001b[0m\u001b[0;34m.\u001b[0m\u001b[0merlang\u001b[0m\u001b[0;34m.\u001b[0m\u001b[0mrvs\u001b[0m\u001b[0;34m(\u001b[0m\u001b[0;36m2\u001b[0m\u001b[0;34m,\u001b[0m \u001b[0msize\u001b[0m\u001b[0;34m=\u001b[0m\u001b[0;36m100000\u001b[0m\u001b[0;34m)\u001b[0m\u001b[0;34m\u001b[0m\u001b[0;34m\u001b[0m\u001b[0m\n\u001b[1;32m      4\u001b[0m \u001b[0;34m\u001b[0m\u001b[0m\n\u001b[1;32m      5\u001b[0m \u001b[0max\u001b[0m\u001b[0;34m.\u001b[0m\u001b[0mhist\u001b[0m\u001b[0;34m(\u001b[0m\u001b[0md\u001b[0m\u001b[0;34m,\u001b[0m \u001b[0;36m50\u001b[0m\u001b[0;34m,\u001b[0m \u001b[0mdensity\u001b[0m\u001b[0;34m=\u001b[0m\u001b[0;32mTrue\u001b[0m\u001b[0;34m)\u001b[0m\u001b[0;34m\u001b[0m\u001b[0;34m\u001b[0m\u001b[0m\n",
      "\u001b[0;31mNameError\u001b[0m: name 'd' is not defined"
     ]
    },
    {
     "data": {
      "image/png": "[encoded data removed]",
      "text/plain": [
       "<Figure size 432x288 with 1 Axes>"
      ]
     },
     "metadata": {
      "needs_background": "light"
     },
     "output_type": "display_data"
    }
   ],
   "source": [
    "fig, ax = plt.subplots(1,1)\n",
    "x = np.linspace(min(d), max(d),100)\n",
    "d = stats.erlang.rvs(2, size=100000)\n",
    "\n",
    "ax.hist(d, 50, density=True)\n",
    "\n",
    "ax.plot(x, stats.erlang.pdf(x, 2), alpha = 0.8, linewidth=5)"
   ]
  },
  {
   "cell_type": "markdown",
   "id": "a0dc25be-d3c5-42db-b3ad-7457b0d1fcbb",
   "metadata": {},
   "source": [
    "Problem 2b: Again from wikipedia, the ratio of two central gaussian distributions is the lorentzian distribution. This appears as so:"
   ]
  },
  {
   "cell_type": "code",
   "execution_count": 19,
   "id": "667c8b30-980e-4c2d-b115-e02ed63d8a55",
   "metadata": {},
   "outputs": [
    {
     "data": {
      "image/png": "[encoded data removed]",
      "text/plain": [
       "<Figure size 432x288 with 1 Axes>"
      ]
     },
     "metadata": {
      "needs_background": "light"
     },
     "output_type": "display_data"
    }
   ],
   "source": [
    "fig, ax = plt.subplots(1,1)\n",
    "d = stats.cauchy.rvs(size=1000)\n",
    "\n",
    "ax.hist(d, 100, density=True)\n",
    "\n",
    "x = np.linspace(min(d),max(d),100)\n",
    "#ax.plot(x, stats.cauchy.pdf(x), alpha=0.8, linewidth=5)"
   ]
  },
  {
   "cell_type": "markdown",
   "id": "e9101587-d9e7-49b9-a494-8837a830baf9",
   "metadata": {},
   "source": [
    "Problem 2c: Here we need to square both distributions, add them together, and the take the square root of that combined distribution to find the amplitude of the 2D distribution, assuming the math is the same for vectors of random variables.The square of a standard normal distribution, once more according to wikipedia, is a chi-squared distribution with one degree of freedom. Chi-square distributions are similar to poisson distributions in that two chi-square distributions summed together is equal to a chi-square distribution with a degree of freedom parameter equal to the sum of the degrees of freedom of the prior two. As such, adding them together should result in a chi-square distribution with two degrees of freedom. Lastly, the square root of said chi-square distribution is the chi distribution with the same degrees of freedom. This distribution, representing the pdf of the mangitude of the vector given in the problem appears as so:"
   ]
  },
  {
   "cell_type": "code",
   "execution_count": 1,
   "id": "ca8baf91-de29-45df-835e-fcee0efda3fd",
   "metadata": {},
   "outputs": [
    {
     "ename": "NameError",
     "evalue": "name 'plt' is not defined",
     "output_type": "error",
     "traceback": [
      "\u001b[0;31m---------------------------------------------------------------------------\u001b[0m",
      "\u001b[0;31mNameError\u001b[0m                                 Traceback (most recent call last)",
      "\u001b[0;32m<ipython-input-1-d44180270925>\u001b[0m in \u001b[0;36m<module>\u001b[0;34m\u001b[0m\n\u001b[0;32m----> 1\u001b[0;31m \u001b[0mfig\u001b[0m\u001b[0;34m,\u001b[0m \u001b[0max\u001b[0m \u001b[0;34m=\u001b[0m \u001b[0mplt\u001b[0m\u001b[0;34m.\u001b[0m\u001b[0msubplots\u001b[0m\u001b[0;34m(\u001b[0m\u001b[0;36m1\u001b[0m\u001b[0;34m,\u001b[0m\u001b[0;36m1\u001b[0m\u001b[0;34m)\u001b[0m\u001b[0;34m\u001b[0m\u001b[0;34m\u001b[0m\u001b[0m\n\u001b[0m\u001b[1;32m      2\u001b[0m \u001b[0mx\u001b[0m \u001b[0;34m=\u001b[0m \u001b[0mnp\u001b[0m\u001b[0;34m.\u001b[0m\u001b[0mlinspace\u001b[0m\u001b[0;34m(\u001b[0m\u001b[0mmin\u001b[0m\u001b[0;34m(\u001b[0m\u001b[0md\u001b[0m\u001b[0;34m)\u001b[0m\u001b[0;34m,\u001b[0m \u001b[0mmax\u001b[0m\u001b[0;34m(\u001b[0m\u001b[0md\u001b[0m\u001b[0;34m)\u001b[0m\u001b[0;34m,\u001b[0m\u001b[0;36m100\u001b[0m\u001b[0;34m)\u001b[0m\u001b[0;34m\u001b[0m\u001b[0;34m\u001b[0m\u001b[0m\n\u001b[1;32m      3\u001b[0m \u001b[0md\u001b[0m \u001b[0;34m=\u001b[0m \u001b[0mstats\u001b[0m\u001b[0;34m.\u001b[0m\u001b[0mchi\u001b[0m\u001b[0;34m.\u001b[0m\u001b[0mrvs\u001b[0m\u001b[0;34m(\u001b[0m\u001b[0;36m2\u001b[0m\u001b[0;34m,\u001b[0m \u001b[0msize\u001b[0m\u001b[0;34m=\u001b[0m\u001b[0;36m100000\u001b[0m\u001b[0;34m)\u001b[0m\u001b[0;34m\u001b[0m\u001b[0;34m\u001b[0m\u001b[0m\n\u001b[1;32m      4\u001b[0m \u001b[0;34m\u001b[0m\u001b[0m\n\u001b[1;32m      5\u001b[0m \u001b[0max\u001b[0m\u001b[0;34m.\u001b[0m\u001b[0mhist\u001b[0m\u001b[0;34m(\u001b[0m\u001b[0md\u001b[0m\u001b[0;34m,\u001b[0m \u001b[0;36m50\u001b[0m\u001b[0;34m,\u001b[0m \u001b[0mdensity\u001b[0m\u001b[0;34m=\u001b[0m\u001b[0;32mTrue\u001b[0m\u001b[0;34m)\u001b[0m\u001b[0;34m\u001b[0m\u001b[0;34m\u001b[0m\u001b[0m\n",
      "\u001b[0;31mNameError\u001b[0m: name 'plt' is not defined"
     ]
    }
   ],
   "source": [
    "fig, ax = plt.subplots(1,1)\n",
    "x = np.linspace(min(d), max(d),100)\n",
    "d = stats.chi.rvs(2, size=100000)\n",
    "\n",
    "ax.hist(d, 50, density=True)\n",
    "\n",
    "ax.plot(x, stats.chi.pdf(x, 2), alpha = 0.8, linewidth=5)"
   ]
  },
  {
   "cell_type": "code",
   "execution_count": null,
   "id": "1e65d202-d8f0-44a6-9114-f82173b5af2e",
   "metadata": {},
   "outputs": [],
   "source": []
  }
 ],
 "metadata": {
  "kernelspec": {
   "display_name": "Python 3",
   "language": "python",
   "name": "python3"
  },
  "language_info": {
   "codemirror_mode": {
    "name": "ipython",
    "version": 3
   },
   "file_extension": ".py",
   "mimetype": "text/x-python",
   "name": "python",
   "nbconvert_exporter": "python",
   "pygments_lexer": "ipython3",
   "version": "3.8.8"
  }
 },
 "nbformat": 4,
 "nbformat_minor": 5
}
