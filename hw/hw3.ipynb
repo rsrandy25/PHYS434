{
 "cells": [
  {
   "cell_type": "markdown",
   "id": "8c3adce0-d7a2-4d37-9ea5-f2c92797da46",
   "metadata": {},
   "source": [
    "# Homework 3\n",
    "\n",
    "Problem 1a: The algorithm that makes the fewest mistakes is algorithm 1. Algorithm 1 miscategorizes five people as birds and three birds as people, adding up to a total of eight mistakes. Algorithm two on the other hand categorizes 11 people as birds and only one bird as a person, adding up to a total of 12 mistakes.\n",
    "\n",
    "1b: Algorithm two is better ofor the zoo, as the priority here is to minimizes the number of birds accidentally released. Since locking a person in the aviary door is of no importance to the zoo, we can say that algorithm two then only makes one mistake, making it the far better algorithm for the zoo.\n",
    "\n",
    "1c:"
   ]
  },
  {
   "cell_type": "code",
   "execution_count": 1,
   "id": "c6769379-389b-48e8-9bf6-799285cb0638",
   "metadata": {},
   "outputs": [
    {
     "name": "stdout",
     "output_type": "stream",
     "text": [
      "            True Bird | True Person\n",
      "    NA Bird      93   | 0\n",
      "  NA Person      6    | 1\n",
      "\n",
      "\n",
      "            True Bird | True Person\n",
      "    NA Bird      97   | 0\n",
      "  NA Person      2    | 1\n"
     ]
    }
   ],
   "source": [
    "print('            True Bird | True Person')\n",
    "print('    NA Bird      93   | 0')\n",
    "print('  NA Person      6    | 1')\n",
    "print()\n",
    "print()\n",
    "print('            True Bird | True Person')\n",
    "print('    NA Bird      97   | 0')\n",
    "print('  NA Person      2    | 1')"
   ]
  },
  {
   "attachments": {
    "23dfbf20-83e8-4d78-938a-85e74bb56eb0.png": {
     "image/png": "[encoded data removed]"
    }
   },
   "cell_type": "markdown",
   "id": "fae388c2-58a2-422c-8019-271622206cc9",
   "metadata": {},
   "source": [
    "Problem 2a:  According to wikipedia, the sum of two identical exponential distributions is equal to:\n",
    "![image.png](attachment:23dfbf20-83e8-4d78-938a-85e74bb56eb0.png)\n",
    "This pdf is also equivalent to an Erland distribution of shape 2 with the same parameter lambda as the parameters of the exponential distributions. This distribution takes the shape of:"
   ]
  },
  {
   "cell_type": "code",
   "execution_count": 2,
   "id": "9fb13ef1-a938-4fb9-8027-96205281cb12",
   "metadata": {},
   "outputs": [],
   "source": [
    "import scipy.stats as stats\n",
    "import matplotlib.pyplot as plt\n",
    "import numpy as np"
   ]
  },
  {
   "cell_type": "code",
   "execution_count": 10,
   "id": "a27205aa-4ccc-4b7a-8ded-fcb9967c17b8",
   "metadata": {},
   "outputs": [
    {
     "data": {
      "text/plain": [
       "[<matplotlib.lines.Line2D at 0x7fe5d712d3d0>]"
      ]
     },
     "execution_count": 10,
     "metadata": {},
     "output_type": "execute_result"
    },
    {
     "data": {
      "image/png": "[encoded data removed]",
      "text/plain": [
       "<Figure size 432x288 with 1 Axes>"
      ]
     },
     "metadata": {
      "needs_background": "light"
     },
     "output_type": "display_data"
    }
   ],
   "source": [
    "fig, ax = plt.subplots(1,1)\n",
    "\n",
    "d = stats.erlang.rvs(2, size=100000)\n",
    "x = np.linspace(min(d), max(d),100)\n",
    "\n",
    "ax.hist(d, 50, density=True)\n",
    "\n",
    "ax.plot(x, stats.erlang.pdf(x, 2), alpha = 0.8, linewidth=5)"
   ]
  },
  {
   "cell_type": "markdown",
   "id": "a0dc25be-d3c5-42db-b3ad-7457b0d1fcbb",
   "metadata": {},
   "source": [
    "Problem 2b: Again from wikipedia, the ratio of two central gaussian distributions is the lorentzian distribution. This appears as so:"
   ]
  },
  {
   "cell_type": "code",
   "execution_count": 11,
   "id": "667c8b30-980e-4c2d-b115-e02ed63d8a55",
   "metadata": {},
   "outputs": [
    {
     "data": {
      "image/png": "[encoded data removed]",
      "text/plain": [
       "<Figure size 432x288 with 1 Axes>"
      ]
     },
     "metadata": {
      "needs_background": "light"
     },
     "output_type": "display_data"
    }
   ],
   "source": [
    "fig, ax = plt.subplots(1,1)\n",
    "d = stats.cauchy.rvs(size=1000)\n",
    "\n",
    "ax.hist(d, 100, density=True)\n",
    "\n",
    "x = np.linspace(min(d),max(d),100)\n",
    "#ax.plot(x, stats.cauchy.pdf(x), alpha=0.8, linewidth=5)"
   ]
  },
  {
   "cell_type": "markdown",
   "id": "e9101587-d9e7-49b9-a494-8837a830baf9",
   "metadata": {},
   "source": [
    "Problem 2c: Here we need to square both distributions, add them together, and the take the square root of that combined distribution to find the amplitude of the 2D distribution, assuming the math is the same for vectors of random variables.The square of a standard normal distribution, once more according to wikipedia, is a chi-squared distribution with one degree of freedom. Chi-square distributions are similar to poisson distributions in that two chi-square distributions summed together is equal to a chi-square distribution with a degree of freedom parameter equal to the sum of the degrees of freedom of the prior two. As such, adding them together should result in a chi-square distribution with two degrees of freedom. Lastly, the square root of said chi-square distribution is the chi distribution with the same degrees of freedom. This distribution, representing the pdf of the mangitude of the vector given in the problem appears as so:"
   ]
  },
  {
   "cell_type": "code",
   "execution_count": 13,
   "id": "ca8baf91-de29-45df-835e-fcee0efda3fd",
   "metadata": {},
   "outputs": [
    {
     "data": {
      "text/plain": [
       "(array([4.44543394e-02, 1.33581467e-01, 2.15718232e-01, 3.15330904e-01,\n",
       "        3.72782949e-01, 4.40392866e-01, 5.07128987e-01, 5.47105125e-01,\n",
       "        5.77797188e-01, 6.05649415e-01, 6.03901824e-01, 6.00843540e-01,\n",
       "        5.92105587e-01, 5.74629679e-01, 5.44920637e-01, 5.15648492e-01,\n",
       "        4.75344681e-01, 4.45635638e-01, 4.03693460e-01, 3.62952751e-01,\n",
       "        3.22976613e-01, 2.81034435e-01, 2.47502538e-01, 2.08946318e-01,\n",
       "        1.81749437e-01, 1.54552556e-01, 1.23314371e-01, 1.07804504e-01,\n",
       "        8.67241903e-02, 7.70032169e-02, 5.83258409e-02, 4.42358905e-02,\n",
       "        3.71363032e-02, 2.67599832e-02, 1.97696202e-02, 1.74759074e-02,\n",
       "        1.13593398e-02, 1.01578712e-02, 8.41028042e-03, 5.57044548e-03,\n",
       "        3.71363032e-03, 2.51216169e-03, 2.07526400e-03, 1.31069305e-03,\n",
       "        1.20146863e-03, 4.36897684e-04, 4.36897684e-04, 1.09224421e-04,\n",
       "        0.00000000e+00, 2.18448842e-04]),\n",
       " array([1.84525221e-03, 9.33998688e-02, 1.84954485e-01, 2.76509102e-01,\n",
       "        3.68063719e-01, 4.59618335e-01, 5.51172952e-01, 6.42727569e-01,\n",
       "        7.34282185e-01, 8.25836802e-01, 9.17391419e-01, 1.00894604e+00,\n",
       "        1.10050065e+00, 1.19205527e+00, 1.28360989e+00, 1.37516450e+00,\n",
       "        1.46671912e+00, 1.55827373e+00, 1.64982835e+00, 1.74138297e+00,\n",
       "        1.83293758e+00, 1.92449220e+00, 2.01604682e+00, 2.10760143e+00,\n",
       "        2.19915605e+00, 2.29071067e+00, 2.38226528e+00, 2.47381990e+00,\n",
       "        2.56537452e+00, 2.65692913e+00, 2.74848375e+00, 2.84003837e+00,\n",
       "        2.93159298e+00, 3.02314760e+00, 3.11470222e+00, 3.20625683e+00,\n",
       "        3.29781145e+00, 3.38936607e+00, 3.48092068e+00, 3.57247530e+00,\n",
       "        3.66402992e+00, 3.75558453e+00, 3.84713915e+00, 3.93869377e+00,\n",
       "        4.03024838e+00, 4.12180300e+00, 4.21335762e+00, 4.30491223e+00,\n",
       "        4.39646685e+00, 4.48802147e+00, 4.57957608e+00]),\n",
       " <BarContainer object of 50 artists>)"
      ]
     },
     "execution_count": 13,
     "metadata": {},
     "output_type": "execute_result"
    },
    {
     "data": {
      "image/png": "[encoded data removed]",
      "text/plain": [
       "<Figure size 432x288 with 1 Axes>"
      ]
     },
     "metadata": {
      "needs_background": "light"
     },
     "output_type": "display_data"
    }
   ],
   "source": [
    "fig, ax = plt.subplots(1,1)\n",
    "x = np.linspace(min(d), max(d),100)\n",
    "d = stats.chi.rvs(2, size=100000)\n",
    "\n",
    "ax.hist(d, 50, density=True)\n",
    "\n",
    "#ax.plot(x, stats.chi.pdf(x, 2), alpha = 0.8, linewidth=5)"
   ]
  },
  {
   "cell_type": "code",
   "execution_count": null,
   "id": "1e65d202-d8f0-44a6-9114-f82173b5af2e",
   "metadata": {},
   "outputs": [],
   "source": []
  }
 ],
 "metadata": {
  "kernelspec": {
   "display_name": "Python 3",
   "language": "python",
   "name": "python3"
  },
  "language_info": {
   "codemirror_mode": {
    "name": "ipython",
    "version": 3
   },
   "file_extension": ".py",
   "mimetype": "text/x-python",
   "name": "python",
   "nbconvert_exporter": "python",
   "pygments_lexer": "ipython3",
   "version": "3.8.8"
  }
 },
 "nbformat": 4,
 "nbformat_minor": 5
}
