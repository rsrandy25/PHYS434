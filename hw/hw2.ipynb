{
 "cells": [
  {
   "cell_type": "markdown",
   "id": "94d28eb4-fcc5-47db-845c-8f6398cf1e9b",
   "metadata": {},
   "source": [
    "1)\n",
    "\n",
    "Rolling to 7 is more probable, as there are more microstates that result in this outcome, whereas for snake eyes, there is only one possible roll that can result in this state."
   ]
  },
  {
   "cell_type": "code",
   "execution_count": 1,
   "id": "37cfa400-bab7-4a61-af3d-03af954d8933",
   "metadata": {},
   "outputs": [
    {
     "name": "stdout",
     "output_type": "stream",
     "text": [
      "6.0\n"
     ]
    }
   ],
   "source": [
    "prob_snake = 1/36\n",
    "prob_seven = 1/6 # 6 possible states that add up to 7, 1 and 6, 6 and 1, 2 and 5, etc. microstates/macrostates = 6/36 = 1/6\n",
    "ratio = prob_seven/prob_snake\n",
    "print(ratio)"
   ]
  },
  {
   "cell_type": "code",
   "execution_count": 2,
   "id": "a3c0250b-a518-4a8b-bb8b-08c3a2ef7150",
   "metadata": {},
   "outputs": [],
   "source": [
    "#2\n",
    "def analytical_sum(target):\n",
    "    z = abs(7 - target)\n",
    "    return (6 - z)/36"
   ]
  },
  {
   "cell_type": "code",
   "execution_count": 3,
   "id": "7ddce3da-42fb-4e0a-8abb-47d725ae6fe6",
   "metadata": {},
   "outputs": [
    {
     "data": {
      "text/plain": [
       "0.16666666666666666"
      ]
     },
     "execution_count": 3,
     "metadata": {},
     "output_type": "execute_result"
    }
   ],
   "source": [
    "analytical_sum(7)"
   ]
  },
  {
   "cell_type": "code",
   "execution_count": 4,
   "id": "5aafc4d5-f582-415a-b2c8-95e1837ccd30",
   "metadata": {},
   "outputs": [
    {
     "name": "stdout",
     "output_type": "stream",
     "text": [
      "1.0000000000000002\n"
     ]
    }
   ],
   "source": [
    "total = sum([analytical_sum(x) for x in range(2, 13)])\n",
    "print(total)"
   ]
  },
  {
   "cell_type": "code",
   "execution_count": 5,
   "id": "ec2bd310-05df-482c-87b7-d2144ccf731e",
   "metadata": {},
   "outputs": [],
   "source": [
    "import matplotlib.pyplot as plt\n",
    "import numpy as np\n",
    "import scipy.stats as stats"
   ]
  },
  {
   "cell_type": "code",
   "execution_count": 6,
   "id": "81cbd924-4dcb-41d9-8707-228227f79840",
   "metadata": {},
   "outputs": [
    {
     "data": {
      "text/plain": [
       "<matplotlib.collections.LineCollection at 0x7f4953a5ba00>"
      ]
     },
     "execution_count": 6,
     "metadata": {},
     "output_type": "execute_result"
    },
    {
     "data": {
      "image/png": "[encoded data removed]",
      "text/plain": [
       "<Figure size 432x288 with 1 Axes>"
      ]
     },
     "metadata": {
      "needs_background": "light"
     },
     "output_type": "display_data"
    }
   ],
   "source": [
    "x = range(2, 13)\n",
    "y = [analytical_sum(i) for i in x]\n",
    "fig, ax = plt.subplots(1, 1)\n",
    "ax.plot(x,y, 'bo')\n",
    "ax.vlines(x, 0, y)"
   ]
  },
  {
   "cell_type": "code",
   "execution_count": 7,
   "id": "357fcc59-286a-4162-8267-52b00a643971",
   "metadata": {},
   "outputs": [],
   "source": [
    "# 3: Mean is 7 by inspection\n",
    "def variance(num_rolls):\n",
    "    e1 = sum(range(1,7))/6\n",
    "    e2 = sum([x**2 for x in range(1, 7)])/6\n",
    "    \n",
    "    res = e2 - e1**2\n",
    "    return num_rolls * res"
   ]
  },
  {
   "cell_type": "code",
   "execution_count": 8,
   "id": "edf162bd-01fb-4d1f-ad98-80915da4aab6",
   "metadata": {},
   "outputs": [
    {
     "name": "stdout",
     "output_type": "stream",
     "text": [
      "2.916666666666666\n",
      "5.833333333333332\n"
     ]
    }
   ],
   "source": [
    "print(variance(1))\n",
    "# Variance of one dice roll is 2.917, and the variance of the sum of\n",
    "# two independent variables is the sum of their variances, so:\n",
    "print(variance(2)) # should be the variance of our distribution."
   ]
  },
  {
   "cell_type": "code",
   "execution_count": 23,
   "id": "47676761-3db1-4b44-bd9a-8509092ec570",
   "metadata": {},
   "outputs": [
    {
     "name": "stdout",
     "output_type": "stream",
     "text": [
      "0.9999999999999997\n"
     ]
    }
   ],
   "source": [
    "#4\n",
    "odds = np.ones(6)*(1/6)\n",
    "temp = odds\n",
    "for x in range(9):\n",
    "    odds = np.convolve(odds, temp)\n",
    "print(sum(odds))"
   ]
  },
  {
   "cell_type": "code",
   "execution_count": 24,
   "id": "015d4990-8400-496f-b31f-5f87ede3b90e",
   "metadata": {},
   "outputs": [
    {
     "data": {
      "text/plain": [
       "<matplotlib.collections.LineCollection at 0x7f495310e520>"
      ]
     },
     "execution_count": 24,
     "metadata": {},
     "output_type": "execute_result"
    },
    {
     "data": {
      "image/png": "[encoded data removed]",
      "text/plain": [
       "<Figure size 432x288 with 1 Axes>"
      ]
     },
     "metadata": {
      "needs_background": "light"
     },
     "output_type": "display_data"
    }
   ],
   "source": [
    "x = range(10, 61)\n",
    "y = odds\n",
    "plt.plot(x, y, 'bo')\n",
    "plt.vlines(x, 0 ,y)"
   ]
  },
  {
   "cell_type": "markdown",
   "id": "90ee4be5-14d8-47f0-962e-b2bd9f7d5ab7",
   "metadata": {},
   "source": [
    "It looks pretty gaussian to me and highly convolved distributions should eventually become gaussian so from a quick glance I would say yes it's gaussian."
   ]
  },
  {
   "cell_type": "code",
   "execution_count": 25,
   "id": "6aa2ffab-85fc-4a00-b7b1-6c76aab703ac",
   "metadata": {},
   "outputs": [
    {
     "name": "stdout",
     "output_type": "stream",
     "text": [
      "0.9999999999999968\n",
      "301\n",
      "0.030077428508415927\n"
     ]
    }
   ],
   "source": [
    "#Let's use the 10 conv plot as our inital gaussian distribution.\n",
    "for x in range(50):\n",
    "    odds = np.convolve(odds, temp)\n",
    "print(sum(odds))\n",
    "print(len(odds))\n",
    "print(max(odds))"
   ]
  },
  {
   "cell_type": "code",
   "execution_count": 29,
   "id": "3e12120e-6a7d-462b-b237-f7f344c8818b",
   "metadata": {},
   "outputs": [
    {
     "data": {
      "text/plain": [
       "<matplotlib.collections.LineCollection at 0x7f4953934760>"
      ]
     },
     "execution_count": 29,
     "metadata": {},
     "output_type": "execute_result"
    },
    {
     "data": {
      "image/png": "[encoded data removed]",
      "text/plain": [
       "<Figure size 432x288 with 1 Axes>"
      ]
     },
     "metadata": {
      "needs_background": "light"
     },
     "output_type": "display_data"
    }
   ],
   "source": [
    "x = np.array(range(61, 362))\n",
    "\n",
    "plt.xlim([150, 275])\n",
    "plt.plot(x, odds, 'bo')\n",
    "plt.vlines(x, 0, odds)"
   ]
  },
  {
   "cell_type": "code",
   "execution_count": 30,
   "id": "c5156e04-bb58-4448-97fe-08ae75def35b",
   "metadata": {},
   "outputs": [
    {
     "name": "stdout",
     "output_type": "stream",
     "text": [
      "174.99999999999997\n"
     ]
    }
   ],
   "source": [
    "# The distribution here representing the sums for 60 dice is clearly Gaussian, with variance:\n",
    "print(variance(60))"
   ]
  },
  {
   "cell_type": "markdown",
   "id": "00287071-474e-498a-b7a3-6f77ec0bae2c",
   "metadata": {},
   "source": [
    "While the variance increases linearly, it's important to note that over time, the standard deviation does not. This is due to the relationship between standard deviation and variance. Since the variance is equal to the standard deviation squared, while the variance increases linearly, the standard deviation will increase as $\\sqrt{n}$. So if you integrate/convolute over a long period of time, the standard deviation will change very slowly if at all."
   ]
  },
  {
   "cell_type": "code",
   "execution_count": null,
   "id": "f55343ae-0567-4422-99b6-ef257eb765c6",
   "metadata": {},
   "outputs": [],
   "source": []
  }
 ],
 "metadata": {
  "kernelspec": {
   "display_name": "Python 3",
   "language": "python",
   "name": "python3"
  },
  "language_info": {
   "codemirror_mode": {
    "name": "ipython",
    "version": 3
   },
   "file_extension": ".py",
   "mimetype": "text/x-python",
   "name": "python",
   "nbconvert_exporter": "python",
   "pygments_lexer": "ipython3",
   "version": "3.8.8"
  }
 },
 "nbformat": 4,
 "nbformat_minor": 5
}
